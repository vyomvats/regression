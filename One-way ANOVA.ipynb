{
 "cells": [
  {
   "cell_type": "markdown",
   "metadata": {},
   "source": [
    "## One-way ANOVA in R: the whole story (more or less)"
   ]
  },
  {
   "cell_type": "markdown",
   "metadata": {},
   "source": [
    "At it's heart, the ANOVA is simply a way to check whether or not the groups in your data have as much variation among themselves as there is between the groups. Let's perform one such analysis on an interesting dataset."
   ]
  },
  {
   "cell_type": "markdown",
   "metadata": {},
   "source": [
    "Nolen-Hoeksema and Morrow (1991) had the good fortune to have measured depression among college students two weeks before the Loma Prieta earthquake in California in 1989. (This was a \"big-deal\" of an earthquake, and would have expected to have measurable effects on students). Having collected these data, the researchers went out and collected repeated data to track the students’s adjustment to the earthquake. Measurements were taken every three weeks starting with the original measurement two weeks before the earthquake, and then 1, 4, 7, and 10 weeks after. This is a very suitable dataset to evaluate and see what ANOVA is all about."
   ]
  },
  {
   "cell_type": "markdown",
   "metadata": {},
   "source": [
    "Let's read the dataset first, and look at the first few rows. The dataset contains the following variables:\n",
    "1. **Dep.Score**: The student’s depression score (the higher, the more depressed)\n",
    "2. **Week**: -2 = two weeks prior to the earthquake, 1 = one week after, 4 = four weeks after, 7 = seven weeks after, and 10 = ten weeks after\n",
    "3. **Subject**: Student’s index"
   ]
  },
  {
   "cell_type": "code",
   "execution_count": 8,
   "metadata": {
    "collapsed": false
   },
   "outputs": [
    {
     "data": {
      "text/html": [
       "<table>\n",
       "<thead><tr><th scope=col>Dep.Score</th><th scope=col>Week</th><th scope=col>Subject</th></tr></thead>\n",
       "<tbody>\n",
       "\t<tr><td>6 </td><td>-2</td><td>1 </td></tr>\n",
       "\t<tr><td>2 </td><td>-2</td><td>2 </td></tr>\n",
       "\t<tr><td>2 </td><td>-2</td><td>3 </td></tr>\n",
       "\t<tr><td>4 </td><td>-2</td><td>4 </td></tr>\n",
       "\t<tr><td>4 </td><td>-2</td><td>5 </td></tr>\n",
       "\t<tr><td>5 </td><td>-2</td><td>6 </td></tr>\n",
       "</tbody>\n",
       "</table>\n"
      ],
      "text/latex": [
       "\\begin{tabular}{r|lll}\n",
       " Dep.Score & Week & Subject\\\\\n",
       "\\hline\n",
       "\t 6  & -2 & 1 \\\\\n",
       "\t 2  & -2 & 2 \\\\\n",
       "\t 2  & -2 & 3 \\\\\n",
       "\t 4  & -2 & 4 \\\\\n",
       "\t 4  & -2 & 5 \\\\\n",
       "\t 5  & -2 & 6 \\\\\n",
       "\\end{tabular}\n"
      ],
      "text/plain": [
       "  Dep.Score Week Subject\n",
       "1 6         -2   1      \n",
       "2 2         -2   2      \n",
       "3 2         -2   3      \n",
       "4 4         -2   4      \n",
       "5 4         -2   5      \n",
       "6 5         -2   6      "
      ]
     },
     "metadata": {},
     "output_type": "display_data"
    }
   ],
   "source": [
    "data = read.table(\"Desktop/datasets/depression.txt\", header=TRUE)\n",
    "head(data)"
   ]
  },
  {
   "cell_type": "markdown",
   "metadata": {},
   "source": [
    "The 'groups' we're trying to compare here are the weeks before and after the earthquake. We wish to see whether or not there's been a change in the depression scores before and after the earthquake. Let's store the two quantities of interest separately in two variables:"
   ]
  },
  {
   "cell_type": "code",
   "execution_count": 10,
   "metadata": {
    "collapsed": true
   },
   "outputs": [],
   "source": [
    "scores = data[,1]\n",
    "week = data[,2]"
   ]
  },
  {
   "cell_type": "markdown",
   "metadata": {},
   "source": [
    "#### Some exploratory analysis first:\n",
    "Let's draw some boxplots and see if we can notice some obvious things:"
   ]
  },
  {
   "cell_type": "code",
   "execution_count": 12,
   "metadata": {
    "collapsed": false
   },
   "outputs": [
    {
     "data": {
      "image/png": "[encoded data removed]",
      "text/plain": [
       "Plot with title \"Boxplots of all five weeks\""
      ]
     },
     "metadata": {},
     "output_type": "display_data"
    }
   ],
   "source": [
    "boxplot(scores ~ as.factor(week), xlab = \"Week\", ylab = \"Depression score\")\n",
    "title(main = \"Boxplots of all five weeks\")"
   ]
  },
  {
   "cell_type": "markdown",
   "metadata": {},
   "source": [
    "At a first glance, it seems that there was not much change in the depression scores before and after the earthquake. The variation in the groups themselves seems quite a bit more than the variation between groups. But we can't really say for sure. That's what ANOVA is for!"
   ]
  },
  {
   "cell_type": "code",
   "execution_count": 14,
   "metadata": {
    "collapsed": false
   },
   "outputs": [
    {
     "data": {
      "text/plain": [
       "             Df Sum Sq Mean Sq F value Pr(>F)  \n",
       "week          4  144.8   36.19   2.383 0.0552 .\n",
       "Residuals   120 1822.2   15.19                 \n",
       "---\n",
       "Signif. codes:  0 '***' 0.001 '**' 0.01 '*' 0.05 '.' 0.1 ' ' 1"
      ]
     },
     "metadata": {},
     "output_type": "display_data"
    }
   ],
   "source": [
    "# converting week to factor type before running ANOVA - this is important before running ANOVA\n",
    "week = as.factor(week)\n",
    "\n",
    "# preparing the ANOVA model and fetching summary\n",
    "anova_model = aov(scores ~ week)\n",
    "summary(anova_model)"
   ]
  },
  {
   "cell_type": "markdown",
   "metadata": {},
   "source": [
    "The key takeaway from the results is the p-value. Usually, we say that there's a statistically significant variation **between the groups** when the p-value is very small. The smaller this value is, the more confidently we can assert that the groups (technically, their means) are different from one another. Ideally, we draw the line at a value of 0.05; for values larger than this, we say that groups aren't different."
   ]
  },
  {
   "cell_type": "markdown",
   "metadata": {},
   "source": [
    "Here, the value is close to 0.05, infact it's a bit larger than that, so we'd conclude that the groups aren't in fact all that different."
   ]
  },
  {
   "cell_type": "markdown",
   "metadata": {},
   "source": [
    "Hold your horses though, because the value of 0.05 comes from a 95% confidence level (which is by far the most commonly used confidence level, some people use 99% to make sure they are reporting really statistically significant results). But if we were to have, say a 90% confidence interval, we **could** say that the groups (that is, their means) are different.\n",
    "\n",
    "*P.S. don't do that though, a 90% confidence level is unheard of! This is just for arguement's sake.*"
   ]
  },
  {
   "cell_type": "markdown",
   "metadata": {},
   "source": [
    "Okay, so if the groups (yeah, yeah, their means!) are different, which groups are different exactly? Are all of them same, save for one? Or something else like that?\n",
    "\n",
    "This is where we can use a technique a good guy called [Tukey](https://en.wikipedia.org/wiki/John_Tukey) put together, called Tukey's pairwise comparison (By the way, he also developed the box plot). As is evident from the name, this compares the groups pairwise, and then we can see what groups are different (and to what degree). Let's see how it's implemented below:"
   ]
  },
  {
   "cell_type": "code",
   "execution_count": 17,
   "metadata": {
    "collapsed": false
   },
   "outputs": [
    {
     "data": {
      "text/plain": [
       "  Tukey multiple comparisons of means\n",
       "    95% family-wise confidence level\n",
       "\n",
       "Fit: aov(formula = scores ~ week)\n",
       "\n",
       "$week\n",
       "       diff         lwr      upr     p adj\n",
       "1--2   1.44 -1.61273302 4.492733 0.6877236\n",
       "4--2   2.68 -0.37273302 5.732733 0.1140393\n",
       "7--2   2.16 -0.89273302 5.212733 0.2921157\n",
       "10--2  3.04 -0.01273302 6.092733 0.0515279\n",
       "4-1    1.24 -1.81273302 4.292733 0.7930257\n",
       "7-1    0.72 -2.33273302 3.772733 0.9657308\n",
       "10-1   1.60 -1.45273302 4.652733 0.5957066\n",
       "7-4   -0.52 -3.57273302 2.532733 0.9897394\n",
       "10-4   0.36 -2.69273302 3.412733 0.9975094\n",
       "10-7   0.88 -2.17273302 3.932733 0.9306030\n"
      ]
     },
     "metadata": {},
     "output_type": "display_data"
    }
   ],
   "source": [
    "# carrying out Tukey's pairwise comparison\n",
    "# you'll need the \"stats\" package to run this code\n",
    "pair_comp = TukeyHSD(anova_model, which = 'week', conf.level = 0.95)\n",
    "pair_comp"
   ]
  },
  {
   "cell_type": "markdown",
   "metadata": {},
   "source": [
    "To see what pairs of groups are statistically significantly different, notice the pairwise p-values above.\n",
    "\n",
    "As before, the smaller the p-value, the more confident we can be that the group means are indeed different. In this context, the groups **10 and -2** have the smalles p-value, but even that is not very small (it's slightly larger than 0.05). \n",
    "\n",
    "So we could after all conclude that these groups are really not that different, but if we're splitting hairs, we could say that groups `10` and `-2` are the most different among these groups, but not to a degree we would deem statistically significant."
   ]
  }
 ],
 "metadata": {
  "kernelspec": {
   "display_name": "R",
   "language": "R",
   "name": "ir"
  },
  "language_info": {
   "codemirror_mode": "r",
   "file_extension": ".r",
   "mimetype": "text/x-r-source",
   "name": "R",
   "pygments_lexer": "r",
   "version": "3.3.1"
  }
 },
 "nbformat": 4,
 "nbformat_minor": 0
}
