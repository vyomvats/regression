{
 "cells": [
  {
   "cell_type": "markdown",
   "metadata": {},
   "source": [
    "## Linear Regression Model: As 'simple' as it gets!"
   ]
  },
  {
   "cell_type": "markdown",
   "metadata": {},
   "source": [
    "Let's see how we can build a simple linear regression model in R - a model that seeks to find (and quantify) the linear relationship between a `predictor variable` (often called the `independent variable`), based on whose value we can (hopefully) estimate the `response variable`.\n",
    "\n",
    "The dataset we'll use here is that of football, specifically the 1991 season leading quarterback and total team salary for football teams in the American Football Conference (AFC) and National Football Conference (NFC) of the National Football League(NFL). [_Reference_: The Associated Press as Reported by the Atlanta Constitution, December 1991]\n",
    "\n",
    "We're trying to see if there is a relationship between the salary of the Quarterback and the total salary of the team. Let's load up the data:"
   ]
  },
  {
   "cell_type": "code",
   "execution_count": 3,
   "metadata": {
    "collapsed": false
   },
   "outputs": [
    {
     "data": {
      "text/html": [
       "<table>\n",
       "<thead><tr><th scope=col>TEAM</th><th scope=col>QB</th><th scope=col>TOTAL</th><th scope=col>NFC</th></tr></thead>\n",
       "<tbody>\n",
       "\t<tr><td>BILLS  </td><td> 650   </td><td>24249  </td><td>0      </td></tr>\n",
       "\t<tr><td>BENGALS</td><td>1050   </td><td>20666  </td><td>0      </td></tr>\n",
       "\t<tr><td>BROWNS </td><td> 967   </td><td>19413  </td><td>0      </td></tr>\n",
       "\t<tr><td>BRONCOS</td><td> 500   </td><td>21992  </td><td>0      </td></tr>\n",
       "\t<tr><td>OILERS </td><td>1700   </td><td>21399  </td><td>0      </td></tr>\n",
       "\t<tr><td>COLTS  </td><td>2000   </td><td>22022  </td><td>0      </td></tr>\n",
       "</tbody>\n",
       "</table>\n"
      ],
      "text/latex": [
       "\\begin{tabular}{r|llll}\n",
       " TEAM & QB & TOTAL & NFC\\\\\n",
       "\\hline\n",
       "\t BILLS   &  650    & 24249   & 0      \\\\\n",
       "\t BENGALS & 1050    & 20666   & 0      \\\\\n",
       "\t BROWNS  &  967    & 19413   & 0      \\\\\n",
       "\t BRONCOS &  500    & 21992   & 0      \\\\\n",
       "\t OILERS  & 1700    & 21399   & 0      \\\\\n",
       "\t COLTS   & 2000    & 22022   & 0      \\\\\n",
       "\\end{tabular}\n"
      ],
      "text/plain": [
       "  TEAM    QB   TOTAL NFC\n",
       "1 BILLS    650 24249 0  \n",
       "2 BENGALS 1050 20666 0  \n",
       "3 BROWNS   967 19413 0  \n",
       "4 BRONCOS  500 21992 0  \n",
       "5 OILERS  1700 21399 0  \n",
       "6 COLTS   2000 22022 0  "
      ]
     },
     "metadata": {},
     "output_type": "display_data"
    }
   ],
   "source": [
    "data = read.table(\"Desktop/datasets/qbsalary.txt\", header=TRUE)\n",
    "head(data)"
   ]
  },
  {
   "cell_type": "markdown",
   "metadata": {},
   "source": [
    "The variables in the dataset are:\n",
    "1. **TEAM**: Name of team\n",
    "2. **QB**: Salary (in thousand USD) of regular quarterback\n",
    "3. **TOTAL**: Total team salaries (in thousand USD)\n",
    "4. **NFC**: National Football Conference (1) or American Football Conference (0)\n",
    "\n",
    "Let's save the variables of interest (QB and TOTAL) as vectors: "
   ]
  },
  {
   "cell_type": "code",
   "execution_count": 5,
   "metadata": {
    "collapsed": true
   },
   "outputs": [],
   "source": [
    "total = data$TOTAL\n",
    "qb = data$QB"
   ]
  },
  {
   "cell_type": "markdown",
   "metadata": {},
   "source": [
    "Before we get all excited and start building our model, let's take a pause and carry out some exploratory analysis. Data Science is as much as an art as it's a science, and for the time being let's concentrate on the 'art' part. Let's plot our data and see if at all there's a linear relationship or not. This should always be one of the first steps."
   ]
  },
  {
   "cell_type": "code",
   "execution_count": 15,
   "metadata": {
    "collapsed": false
   },
   "outputs": [
    {
     "data": {
      "image/png": "[encoded data removed]",
      "text/plain": [
       "Plot with title \"Scatter plot\""
      ]
     },
     "metadata": {},
     "output_type": "display_data"
    }
   ],
   "source": [
    "plot(total, qb, \n",
    "     main = \"Scatter plot\", \n",
    "     xlab = \"Total Salary of the team\",\n",
    "     ylab = \"Salary of the regular quaterback\",\n",
    "     xlim = c(17000, 31000), ylim = c(400, 3500))\n",
    "abline(lm(qb ~ total), col = \"red\")"
   ]
  },
  {
   "cell_type": "markdown",
   "metadata": {},
   "source": [
    "Not that exciting, is it? But it's still something.\n",
    "\n",
    "Now let's see what our model has to say."
   ]
  },
  {
   "cell_type": "code",
   "execution_count": 9,
   "metadata": {
    "collapsed": false
   },
   "outputs": [
    {
     "data": {
      "text/plain": [
       "\n",
       "Call:\n",
       "lm(formula = qb ~ total)\n",
       "\n",
       "Residuals:\n",
       "     Min       1Q   Median       3Q      Max \n",
       "-1007.05  -350.86   -74.57   304.43  1503.17 \n",
       "\n",
       "Coefficients:\n",
       "              Estimate Std. Error t value Pr(>|t|)   \n",
       "(Intercept) -1.649e+03  8.524e+02  -1.935  0.06395 . \n",
       "total        1.363e-01  3.739e-02   3.647  0.00117 **\n",
       "---\n",
       "Signif. codes:  0 '***' 0.001 '**' 0.01 '*' 0.05 '.' 0.1 ' ' 1\n",
       "\n",
       "Residual standard error: 575.8 on 26 degrees of freedom\n",
       "Multiple R-squared:  0.3384,\tAdjusted R-squared:  0.3129 \n",
       "F-statistic:  13.3 on 1 and 26 DF,  p-value: 0.001166\n"
      ]
     },
     "metadata": {},
     "output_type": "display_data"
    }
   ],
   "source": [
    "# R is so cool that you don't need any extra packages to build regression models\n",
    "modelA = lm(qb ~ total)\n",
    "summary(modelA)"
   ]
  },
  {
   "cell_type": "markdown",
   "metadata": {},
   "source": [
    "Some very important numbers above in the model summary:\n",
    "1. Estimate of Intercept: this is $\\beta_{0}$ of our model\n",
    "2. Estimate of total: this is $\\beta_{1}$ of our model\n",
    "3. Multiple R-squared: this tells us what percentage of the variation in our dependent variable is explained by the relationship between independent and dependent variables\n",
    "3. p-value: this tells us if the relationship is statistically significant"
   ]
  },
  {
   "cell_type": "markdown",
   "metadata": {},
   "source": [
    "Generally speaking, we're happy with our model when the value of $R^{2}$ is more than 0.7 (give or take). In this case, the value is 0.34, which means that we're better off NOT making estimates about our response variables using the value of predictor variables.\n",
    "\n",
    "Let's talk about the p-value though. It is 0.0011, which is quite small, and thus indicates that there IS a statistically significant relationship between the predictor and response variables. We can thus make estimates, but those estimates will have a confidence intervals that would be rather large."
   ]
  },
  {
   "cell_type": "markdown",
   "metadata": {},
   "source": [
    "Lat's also talk about the meaning of the model parameters, $\\beta_{0}$ and $\\beta_{1}$.\n",
    "\n",
    "$\\beta_{0}$ is the intercept of the linear model that we're trying to build, in this context, it is the EXPECTED Quarterback salary when the total salary of the team is 0\n",
    "\n",
    "$\\beta_{1}$ is the slope of our model, in this context, it is EXPECTED the change in Quarterback salary ASSOCIATED with unit change in the total salary of the team\n",
    "\n",
    "And thus, our model can be depicted as follows:\n",
    "\n",
    "${Quarterback.Salary}$ = $\\beta_{0} + \\beta_{1} * Total.Team.Salary$, or\n",
    "\n",
    "${Quarterback.Salary}$ = $-1650 + 0.136 * Total.Team.Salary$"
   ]
  },
  {
   "cell_type": "markdown",
   "metadata": {},
   "source": [
    "We can also get a confidence interval for the our model parameters $\\beta_{0}$ and $\\beta_{1}$.\n",
    "\n",
    "For both of thes values, their confidence interval can be calculated by using the values of their estimate, the standard error of that estimate, and a specific confidence level. Let's take the confidence level to be 99%. The confidence interval for our model parameters can then be calculated as follows:\n",
    "\n",
    "$[l,u]$ $=$ $[\\hat{\\beta}$ $-$ $t_{0.005, n-1}$ * $se(\\hat{\\beta})$  $,$  $\\hat{\\beta}$ $+$ $t_{0.005, n-1}$ * $se(\\hat{\\beta})]$\n",
    "\n",
    "where $\\beta$ could be either $\\beta_{0}$ or $\\beta_{1}$. In R, we can do this as follows for $\\beta_{1}$:"
   ]
  },
  {
   "cell_type": "code",
   "execution_count": 12,
   "metadata": {
    "collapsed": false
   },
   "outputs": [
    {
     "data": {
      "text/html": [
       "<ol class=list-inline>\n",
       "\t<li>0.0324564003389133</li>\n",
       "\t<li>0.240248673141307</li>\n",
       "</ol>\n"
      ],
      "text/latex": [
       "\\begin{enumerate*}\n",
       "\\item 0.0324564003389133\n",
       "\\item 0.240248673141307\n",
       "\\end{enumerate*}\n"
      ],
      "text/markdown": [
       "1. 0.0324564003389133\n",
       "2. 0.240248673141307\n",
       "\n",
       "\n"
      ],
      "text/plain": [
       "[1] 0.0324564 0.2402487"
      ]
     },
     "metadata": {},
     "output_type": "display_data"
    }
   ],
   "source": [
    "modelA$coef[2] + c(-1,1)*qt(.995, modelA$df)*0.03739"
   ]
  },
  {
   "cell_type": "markdown",
   "metadata": {},
   "source": [
    "The 99% confidence interval for the slope parameter of our model is thus $[0.0324,0.2402]$"
   ]
  },
  {
   "cell_type": "markdown",
   "metadata": {},
   "source": [
    "If we wish to make predictions of the Quarterback salary from some particuar value of Total team salary (in this case, we really shouldn't since the model is not very strong), we can do it as follows in R. Say we are trying to predict the Quarterback salary when the Total team salary is $25 million:"
   ]
  },
  {
   "cell_type": "code",
   "execution_count": 14,
   "metadata": {
    "collapsed": false
   },
   "outputs": [
    {
     "data": {
      "text/html": [
       "<table>\n",
       "<thead><tr><th></th><th scope=col>fit</th><th scope=col>lwr</th><th scope=col>upr</th></tr></thead>\n",
       "<tbody>\n",
       "\t<tr><th scope=row>1</th><td>1759.448</td><td>540.9576</td><td>2977.937</td></tr>\n",
       "</tbody>\n",
       "</table>\n"
      ],
      "text/latex": [
       "\\begin{tabular}{r|lll}\n",
       "  & fit & lwr & upr\\\\\n",
       "\\hline\n",
       "\t1 & 1759.448 & 540.9576 & 2977.937\\\\\n",
       "\\end{tabular}\n"
      ],
      "text/markdown": [
       "1. 1759.44750421644\n",
       "2. 540.957624614994\n",
       "3. 2977.93738381789\n",
       "\n",
       "\n"
      ],
      "text/plain": [
       "  fit      lwr      upr     \n",
       "1 1759.448 540.9576 2977.937"
      ]
     },
     "metadata": {},
     "output_type": "display_data"
    }
   ],
   "source": [
    "# we'll use a predictor value of 25000 and not 25 million, since the model is built on values in their thousands\n",
    "dataA = data.frame(total = 25000) # new observation\n",
    "predict(modelA, dataA, interval = \"prediction\", level = 0.95, type = \"response\") #confidence level of 95%"
   ]
  },
  {
   "cell_type": "markdown",
   "metadata": {},
   "source": [
    "Hence, the predicted value of the salary of Quarterback (when the Total Salary of the Team is USD 25000000) is USD 1759448. For a 95% confidence level, the lower and upper values for the Quarterback salary are USD 540958 and USD 2977937 respectively."
   ]
  }
 ],
 "metadata": {
  "kernelspec": {
   "display_name": "R",
   "language": "R",
   "name": "ir"
  },
  "language_info": {
   "codemirror_mode": "r",
   "file_extension": ".r",
   "mimetype": "text/x-r-source",
   "name": "R",
   "pygments_lexer": "r",
   "version": "3.3.1"
  }
 },
 "nbformat": 4,
 "nbformat_minor": 0
}
