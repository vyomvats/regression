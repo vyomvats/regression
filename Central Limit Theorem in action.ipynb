{
 "cells": [
  {
   "cell_type": "markdown",
   "metadata": {},
   "source": [
    "### Central Limit Theorem in action: a look at some sampling distributions for sample mean and sample variance"
   ]
  },
  {
   "cell_type": "markdown",
   "metadata": {},
   "source": [
    "Let's simulate a sample of 100 observations from a population of normally distributed random numbers. The mean of the population is 100, and the variance is 9. The vector $x$ below will contain 100 values which are observations from our population."
   ]
  },
  {
   "cell_type": "code",
   "execution_count": 3,
   "metadata": {
    "collapsed": true
   },
   "outputs": [],
   "source": [
    "x = rnorm(100, mean=100, sd=3)"
   ]
  },
  {
   "cell_type": "markdown",
   "metadata": {},
   "source": [
    "Take a look at the mean and standard deviation of this sample:"
   ]
  },
  {
   "cell_type": "code",
   "execution_count": 10,
   "metadata": {
    "collapsed": false
   },
   "outputs": [
    {
     "data": {
      "text/html": [
       "100.371843413878"
      ],
      "text/latex": [
       "100.371843413878"
      ],
      "text/markdown": [
       "100.371843413878"
      ],
      "text/plain": [
       "[1] 100.3718"
      ]
     },
     "metadata": {},
     "output_type": "display_data"
    },
    {
     "data": {
      "text/html": [
       "2.80885396823613"
      ],
      "text/latex": [
       "2.80885396823613"
      ],
      "text/markdown": [
       "2.80885396823613"
      ],
      "text/plain": [
       "[1] 2.808854"
      ]
     },
     "metadata": {},
     "output_type": "display_data"
    }
   ],
   "source": [
    "mean = mean(x)\n",
    "SD = sd(x)\n",
    "mean\n",
    "SD"
   ]
  },
  {
   "cell_type": "markdown",
   "metadata": {},
   "source": [
    "As can be seen, they are not exactly equal to 100 and 3 respectively, since it is a sample of randomly picked observations"
   ]
  },
  {
   "cell_type": "markdown",
   "metadata": {},
   "source": [
    "Now let's simulate this sample a large number of times, and calculate the mean and variance of all these samples and look at the distributions of mean and sample values."
   ]
  },
  {
   "cell_type": "code",
   "execution_count": 12,
   "metadata": {
    "collapsed": true
   },
   "outputs": [],
   "source": [
    "n = 100 #number of observations in one sample\n",
    "S = 500 #number of simulations\n",
    "X = matrix(0, nrow=S, ncol=n)\n",
    "for(i in 1:S) {\n",
    "    X[i,] = rnorm(n,mean=100,sd=3)\n",
    "}"
   ]
  },
  {
   "cell_type": "markdown",
   "metadata": {},
   "source": [
    "To obtain the sample means and sample variances of the 500 samples, we can use the function `apply` as follows. The vectors `means` and `variances` will contain the 500 sample means and 500 sample variances (respectively) of the 500 samples."
   ]
  },
  {
   "cell_type": "code",
   "execution_count": 14,
   "metadata": {
    "collapsed": true
   },
   "outputs": [],
   "source": [
    "means = apply(X, 1, mean)\n",
    "variances = apply(X, 1, var)"
   ]
  },
  {
   "cell_type": "markdown",
   "metadata": {},
   "source": [
    "To look at the distributions, plot the histograms:"
   ]
  },
  {
   "cell_type": "code",
   "execution_count": 19,
   "metadata": {
    "collapsed": false
   },
   "outputs": [
    {
     "data": {
      "image/png": "[encoded data removed]",
      "text/plain": [
       "Plot with title \"Histogram of variances\""
      ]
     },
     "metadata": {},
     "output_type": "display_data"
    }
   ],
   "source": [
    "par(mfrow=c(2,1))\n",
    "hist(means)\n",
    "hist(variances)"
   ]
  },
  {
   "cell_type": "markdown",
   "metadata": {},
   "source": [
    "The plots show that the means and samples are themselves normally distributed. Let's look at whether their respective means are closer to the population's mean and variance:"
   ]
  },
  {
   "cell_type": "code",
   "execution_count": 21,
   "metadata": {
    "collapsed": false
   },
   "outputs": [
    {
     "data": {
      "text/html": [
       "99.9957605841272"
      ],
      "text/latex": [
       "99.9957605841272"
      ],
      "text/markdown": [
       "99.9957605841272"
      ],
      "text/plain": [
       "[1] 99.99576"
      ]
     },
     "metadata": {},
     "output_type": "display_data"
    },
    {
     "data": {
      "text/html": [
       "9.03099086322379"
      ],
      "text/latex": [
       "9.03099086322379"
      ],
      "text/markdown": [
       "9.03099086322379"
      ],
      "text/plain": [
       "[1] 9.030991"
      ]
     },
     "metadata": {},
     "output_type": "display_data"
    }
   ],
   "source": [
    "mean(means)\n",
    "mean(variances)"
   ]
  },
  {
   "cell_type": "markdown",
   "metadata": {},
   "source": [
    "They are quite close! This result is a manifestation of the **Central Limit Theorem**"
   ]
  },
  {
   "cell_type": "markdown",
   "metadata": {},
   "source": [
    "To see if the means and variances are actually normally distributed, we can make a q-q plot (a quantile-quantile plot) as follows:"
   ]
  },
  {
   "cell_type": "code",
   "execution_count": 31,
   "metadata": {
    "collapsed": false
   },
   "outputs": [
    {
     "data": {
      "image/png": "[encoded data removed]",
      "text/plain": [
       "plot without title"
      ]
     },
     "metadata": {},
     "output_type": "display_data"
    }
   ],
   "source": [
    "qqplot(variances, (rchisq(50, df = (100-1))*9/(n-1)))\n",
    "abline(0,1)"
   ]
  },
  {
   "cell_type": "markdown",
   "metadata": {},
   "source": [
    "As can be seen, the values of variances quite closely hug the straight line that shows where an exactly normally distributed sample would be present."
   ]
  }
 ],
 "metadata": {
  "kernelspec": {
   "display_name": "R",
   "language": "R",
   "name": "ir"
  },
  "language_info": {
   "codemirror_mode": "r",
   "file_extension": ".r",
   "mimetype": "text/x-r-source",
   "name": "R",
   "pygments_lexer": "r",
   "version": "3.3.1"
  }
 },
 "nbformat": 4,
 "nbformat_minor": 0
}
